{
 "cells": [
  {
   "cell_type": "markdown",
   "metadata": {},
   "source": [
    "## HMM tarining in both a supervised and unsupervised manner\n",
    "\n",
    "> The provided dataset does not contain a set of sequences, it only contains a list of consecutive days. Thus, a sliding windows is defined with a size of 10 to make sequences of size 10, and continue the calculations. "
   ]
  },
  {
   "cell_type": "code",
   "execution_count": 144,
   "metadata": {},
   "outputs": [
    {
     "name": "stdout",
     "output_type": "stream",
     "text": [
      "The autoreload extension is already loaded. To reload it, use:\n",
      "  %reload_ext autoreload\n"
     ]
    }
   ],
   "source": [
    "%load_ext autoreload\n",
    "%autoreload 2\n",
    "\n",
    "import numpy as np\n",
    "from HMM import hmm\n",
    "import os\n",
    "\n",
    "source_dir = \"Dataset/\""
   ]
  },
  {
   "cell_type": "code",
   "execution_count": 145,
   "metadata": {
    "scrolled": true
   },
   "outputs": [],
   "source": [
    "# Read and reform the dataset\n",
    "file_read = open(source_dir+[item for item in os.listdir(source_dir) if \".txt\" in item][0], \"r+\")\n",
    "lines = file_read.readlines()[1:]\n",
    "fix_data = lambda line: line.strip().replace('\\n', \"\").split(\",\")\n",
    "dataset = np.array(list(map(fix_data, lines)), dtype=object)"
   ]
  },
  {
   "cell_type": "code",
   "execution_count": 146,
   "metadata": {},
   "outputs": [],
   "source": [
    "supervised_model = hmm()\n",
    "supervised_model.supervised_training(dataset[:, 1], dataset[:, 0])"
   ]
  },
  {
   "cell_type": "code",
   "execution_count": 147,
   "metadata": {},
   "outputs": [
    {
     "data": {
      "text/html": [
       "<div>\n",
       "<style scoped>\n",
       "    .dataframe tbody tr th:only-of-type {\n",
       "        vertical-align: middle;\n",
       "    }\n",
       "\n",
       "    .dataframe tbody tr th {\n",
       "        vertical-align: top;\n",
       "    }\n",
       "\n",
       "    .dataframe thead th {\n",
       "        text-align: right;\n",
       "    }\n",
       "</style>\n",
       "<table border=\"1\" class=\"dataframe\">\n",
       "  <thead>\n",
       "    <tr style=\"text-align: right;\">\n",
       "      <th></th>\n",
       "      <th>foggy</th>\n",
       "      <th>rainy</th>\n",
       "      <th>sunny</th>\n",
       "    </tr>\n",
       "  </thead>\n",
       "  <tbody>\n",
       "    <tr>\n",
       "      <th>foggy</th>\n",
       "      <td>0.430666</td>\n",
       "      <td>0.276498</td>\n",
       "      <td>0.193129</td>\n",
       "    </tr>\n",
       "    <tr>\n",
       "      <th>rainy</th>\n",
       "      <td>0.187628</td>\n",
       "      <td>0.545678</td>\n",
       "      <td>0.165916</td>\n",
       "    </tr>\n",
       "    <tr>\n",
       "      <th>sunny</th>\n",
       "      <td>0.130264</td>\n",
       "      <td>0.040732</td>\n",
       "      <td>0.729240</td>\n",
       "    </tr>\n",
       "  </tbody>\n",
       "</table>\n",
       "</div>"
      ],
      "text/plain": [
       "          foggy     rainy     sunny\n",
       "foggy  0.430666  0.276498  0.193129\n",
       "rainy  0.187628  0.545678  0.165916\n",
       "sunny  0.130264  0.040732  0.729240"
      ]
     },
     "metadata": {},
     "output_type": "display_data"
    },
    {
     "data": {
      "text/html": [
       "<div>\n",
       "<style scoped>\n",
       "    .dataframe tbody tr th:only-of-type {\n",
       "        vertical-align: middle;\n",
       "    }\n",
       "\n",
       "    .dataframe tbody tr th {\n",
       "        vertical-align: top;\n",
       "    }\n",
       "\n",
       "    .dataframe thead th {\n",
       "        text-align: right;\n",
       "    }\n",
       "</style>\n",
       "<table border=\"1\" class=\"dataframe\">\n",
       "  <thead>\n",
       "    <tr style=\"text-align: right;\">\n",
       "      <th></th>\n",
       "      <th>no</th>\n",
       "      <th>yes</th>\n",
       "    </tr>\n",
       "  </thead>\n",
       "  <tbody>\n",
       "    <tr>\n",
       "      <th>foggy</th>\n",
       "      <td>0.749057</td>\n",
       "      <td>0.250943</td>\n",
       "    </tr>\n",
       "    <tr>\n",
       "      <th>rainy</th>\n",
       "      <td>0.220401</td>\n",
       "      <td>0.779599</td>\n",
       "    </tr>\n",
       "    <tr>\n",
       "      <th>sunny</th>\n",
       "      <td>0.897678</td>\n",
       "      <td>0.102322</td>\n",
       "    </tr>\n",
       "  </tbody>\n",
       "</table>\n",
       "</div>"
      ],
      "text/plain": [
       "             no       yes\n",
       "foggy  0.749057  0.250943\n",
       "rainy  0.220401  0.779599\n",
       "sunny  0.897678  0.102322"
      ]
     },
     "metadata": {},
     "output_type": "display_data"
    },
    {
     "name": "stdout",
     "output_type": "stream",
     "text": [
      "\n"
     ]
    }
   ],
   "source": [
    "print(supervised_model)"
   ]
  },
  {
   "cell_type": "code",
   "execution_count": 158,
   "metadata": {},
   "outputs": [
    {
     "name": "stderr",
     "output_type": "stream",
     "text": [
      "100%|██████████| 30/30 [00:21<00:00,  1.39it/s]\n"
     ]
    },
    {
     "data": {
      "image/png": "[encoded data removed]",
      "text/plain": [
       "<Figure size 360x360 with 1 Axes>"
      ]
     },
     "metadata": {},
     "output_type": "display_data"
    }
   ],
   "source": [
    "unsupervised_model = hmm()\n",
    "unsupervised_model.unsupervised_training(dataset[:, 1], states, iterations=30)"
   ]
  },
  {
   "cell_type": "code",
   "execution_count": 159,
   "metadata": {},
   "outputs": [
    {
     "data": {
      "text/html": [
       "<div>\n",
       "<style scoped>\n",
       "    .dataframe tbody tr th:only-of-type {\n",
       "        vertical-align: middle;\n",
       "    }\n",
       "\n",
       "    .dataframe tbody tr th {\n",
       "        vertical-align: top;\n",
       "    }\n",
       "\n",
       "    .dataframe thead th {\n",
       "        text-align: right;\n",
       "    }\n",
       "</style>\n",
       "<table border=\"1\" class=\"dataframe\">\n",
       "  <thead>\n",
       "    <tr style=\"text-align: right;\">\n",
       "      <th></th>\n",
       "      <th>foggy</th>\n",
       "      <th>rainy</th>\n",
       "      <th>sunny</th>\n",
       "    </tr>\n",
       "  </thead>\n",
       "  <tbody>\n",
       "    <tr>\n",
       "      <th>foggy</th>\n",
       "      <td>0.106048</td>\n",
       "      <td>0.285935</td>\n",
       "      <td>0.608017</td>\n",
       "    </tr>\n",
       "    <tr>\n",
       "      <th>rainy</th>\n",
       "      <td>0.035858</td>\n",
       "      <td>0.785561</td>\n",
       "      <td>0.178581</td>\n",
       "    </tr>\n",
       "    <tr>\n",
       "      <th>sunny</th>\n",
       "      <td>0.239576</td>\n",
       "      <td>0.077481</td>\n",
       "      <td>0.682944</td>\n",
       "    </tr>\n",
       "  </tbody>\n",
       "</table>\n",
       "</div>"
      ],
      "text/plain": [
       "          foggy     rainy     sunny\n",
       "foggy  0.106048  0.285935  0.608017\n",
       "rainy  0.035858  0.785561  0.178581\n",
       "sunny  0.239576  0.077481  0.682944"
      ]
     },
     "metadata": {},
     "output_type": "display_data"
    },
    {
     "data": {
      "text/html": [
       "<div>\n",
       "<style scoped>\n",
       "    .dataframe tbody tr th:only-of-type {\n",
       "        vertical-align: middle;\n",
       "    }\n",
       "\n",
       "    .dataframe tbody tr th {\n",
       "        vertical-align: top;\n",
       "    }\n",
       "\n",
       "    .dataframe thead th {\n",
       "        text-align: right;\n",
       "    }\n",
       "</style>\n",
       "<table border=\"1\" class=\"dataframe\">\n",
       "  <thead>\n",
       "    <tr style=\"text-align: right;\">\n",
       "      <th></th>\n",
       "      <th>no</th>\n",
       "      <th>yes</th>\n",
       "    </tr>\n",
       "  </thead>\n",
       "  <tbody>\n",
       "    <tr>\n",
       "      <th>foggy</th>\n",
       "      <td>0.754531</td>\n",
       "      <td>0.245469</td>\n",
       "    </tr>\n",
       "    <tr>\n",
       "      <th>rainy</th>\n",
       "      <td>0.372646</td>\n",
       "      <td>0.627354</td>\n",
       "    </tr>\n",
       "    <tr>\n",
       "      <th>sunny</th>\n",
       "      <td>0.924702</td>\n",
       "      <td>0.075298</td>\n",
       "    </tr>\n",
       "  </tbody>\n",
       "</table>\n",
       "</div>"
      ],
      "text/plain": [
       "             no       yes\n",
       "foggy  0.754531  0.245469\n",
       "rainy  0.372646  0.627354\n",
       "sunny  0.924702  0.075298"
      ]
     },
     "metadata": {},
     "output_type": "display_data"
    },
    {
     "name": "stdout",
     "output_type": "stream",
     "text": [
      "\n"
     ]
    }
   ],
   "source": [
    "print(unsupervised_model)"
   ]
  },
  {
   "cell_type": "markdown",
   "metadata": {},
   "source": [
    "#### Let's test some sequences"
   ]
  },
  {
   "cell_type": "code",
   "execution_count": 160,
   "metadata": {
    "scrolled": false
   },
   "outputs": [
    {
     "name": "stdout",
     "output_type": "stream",
     "text": [
      "['yes']\n",
      "The decoded sequence: ['rainy']\n",
      "Likelihood: 0.378\n",
      "\n",
      "['no']\n",
      "The decoded sequence: ['sunny']\n",
      "Likelihood: 0.622\n",
      "\n",
      "['yes', 'yes']\n",
      "The decoded sequence: ['rainy', 'rainy']\n",
      "Likelihood: 0.161\n",
      "\n",
      "['no', 'yes']\n",
      "The decoded sequence: ['foggy', 'rainy']\n",
      "Likelihood: 0.163\n",
      "\n",
      "['yes', 'no']\n",
      "The decoded sequence: ['rainy', 'sunny']\n",
      "Likelihood: 0.179\n",
      "\n",
      "['yes', 'yes', 'no']\n",
      "The decoded sequence: ['rainy', 'rainy', 'sunny']\n",
      "Likelihood: 0.0722\n",
      "\n",
      "['yes', 'yes', 'no', 'yes']\n",
      "The decoded sequence: ['rainy', 'rainy', 'rainy', 'rainy']\n",
      "Likelihood: 0.0214\n",
      "\n",
      "['no', 'no', 'yes', 'no']\n",
      "The decoded sequence: ['sunny', 'sunny', 'sunny', 'sunny']\n",
      "Likelihood: 0.0474\n",
      "\n",
      "['no', 'no', 'no', 'yes', 'no', 'no', 'yes', 'yes', 'no', 'yes']\n",
      "The decoded sequence: ['sunny', 'sunny', 'sunny', 'sunny', 'sunny', 'foggy', 'rainy', 'rainy', 'rainy', 'rainy']\n",
      "Likelihood: 0.000206\n",
      "\n"
     ]
    }
   ],
   "source": [
    "seqences = [[\"yes\"], \n",
    "            [\"no\"], \n",
    "            ['yes', 'yes'], \n",
    "            ['no', \"yes\"], \n",
    "            [\"yes\", \"no\"], \n",
    "            [\"yes\", \"yes\", \"no\"], \n",
    "            [\"yes\", \"yes\", \"no\", \"yes\"], \n",
    "            [\"no\", \"no\", \"yes\", \"no\"], \n",
    "            [\"no\", \"no\", \"no\", \"yes\", \"no\", \"no\", \"yes\", \"yes\", \"no\", \"yes\"]]\n",
    "\n",
    "for seq in seqences:\n",
    "    print(seq)\n",
    "    print(f\"The decoded sequence: {supervised_model.viterbi(seq)}\")\n",
    "    print(f\"Likelihood: {supervised_model.likelihood(seq)[0]:.3}\\n\")"
   ]
  },
  {
   "cell_type": "code",
   "execution_count": 161,
   "metadata": {},
   "outputs": [
    {
     "name": "stdout",
     "output_type": "stream",
     "text": [
      "['yes']\n",
      "The decoded sequence: ['rainy']\n",
      "Likelihood: 0.316\n",
      "\n",
      "['no']\n",
      "The decoded sequence: ['sunny']\n",
      "Likelihood: 0.684\n",
      "\n",
      "['yes', 'yes']\n",
      "The decoded sequence: ['rainy', 'rainy']\n",
      "Likelihood: 0.132\n",
      "\n",
      "['no', 'yes']\n",
      "The decoded sequence: ['rainy', 'rainy']\n",
      "Likelihood: 0.176\n",
      "\n",
      "['yes', 'no']\n",
      "The decoded sequence: ['rainy', 'rainy']\n",
      "Likelihood: 0.184\n",
      "\n",
      "['yes', 'yes', 'no']\n",
      "The decoded sequence: ['rainy', 'rainy', 'rainy']\n",
      "Likelihood: 0.0684\n",
      "\n",
      "['yes', 'yes', 'no', 'yes']\n",
      "The decoded sequence: ['rainy', 'rainy', 'rainy', 'rainy']\n",
      "Likelihood: 0.024\n",
      "\n",
      "['no', 'no', 'yes', 'no']\n",
      "The decoded sequence: ['sunny', 'sunny', 'foggy', 'sunny']\n",
      "Likelihood: 0.0695\n",
      "\n",
      "['no', 'no', 'no', 'yes', 'no', 'no', 'yes', 'yes', 'no', 'yes']\n",
      "The decoded sequence: ['sunny', 'sunny', 'foggy', 'rainy', 'rainy', 'rainy', 'rainy', 'rainy', 'rainy', 'rainy']\n",
      "Likelihood: 0.000629\n",
      "\n"
     ]
    }
   ],
   "source": [
    "for seq in seqences:\n",
    "    print(seq)\n",
    "    print(f\"The decoded sequence: {unsupervised_model.viterbi(seq)}\")\n",
    "    print(f\"Likelihood: {unsupervised_model.likelihood(seq)[0]:.3}\\n\")"
   ]
  },
  {
   "cell_type": "code",
   "execution_count": 164,
   "metadata": {},
   "outputs": [],
   "source": [
    "import pickle as pk\n",
    "if \"save\" not in os.listdir():\n",
    "    os.mkdir(\"save\")\n",
    "fh = open(\"save/saved_unsupervised.pk\", \"wb\")\n",
    "pk.dump(unsupervised_model, fh) \n",
    "fh.close()\n",
    "\n",
    "fh_1 = open(\"save/saved_supervised.pk\", \"wb\")\n",
    "pk.dump(supervised_model, fh_1)\n",
    "fh_1.close()"
   ]
  },
  {
   "cell_type": "code",
   "execution_count": null,
   "metadata": {},
   "outputs": [],
   "source": []
  }
 ],
 "metadata": {
  "kernelspec": {
   "display_name": "Python 3",
   "language": "python",
   "name": "python3"
  },
  "language_info": {
   "codemirror_mode": {
    "name": "ipython",
    "version": 3
   },
   "file_extension": ".py",
   "mimetype": "text/x-python",
   "name": "python",
   "nbconvert_exporter": "python",
   "pygments_lexer": "ipython3",
   "version": "3.8.4"
  }
 },
 "nbformat": 4,
 "nbformat_minor": 4
}
