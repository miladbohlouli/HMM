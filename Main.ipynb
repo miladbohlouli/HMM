{
 "cells": [
  {
   "cell_type": "markdown",
   "metadata": {},
   "source": [
    "## HMM tarining in both a supervised and unsupervised manner\n",
    "\n",
    "> The provided dataset does not contain a set of sequences, it only contains a list of consecutive days. Thus , I have made an assumption that it contains only one sequence with length of 1000 in the training. Without this assumption, the transition between the states would be meaningless. "
   ]
  },
  {
   "cell_type": "code",
   "execution_count": 3,
   "metadata": {},
   "outputs": [
    {
     "name": "stdout",
     "output_type": "stream",
     "text": [
      "The autoreload extension is already loaded. To reload it, use:\n",
      "  %reload_ext autoreload\n"
     ]
    }
   ],
   "source": [
    "%load_ext autoreload\n",
    "%autoreload 2\n",
    "\n",
    "import numpy as np\n",
    "from HMM import hmm\n",
    "import os\n",
    "\n",
    "source_dir = \"Dataset/\""
   ]
  },
  {
   "cell_type": "code",
   "execution_count": 33,
   "metadata": {},
   "outputs": [],
   "source": [
    "# Read and reform the dataset\n",
    "file_read = open(source_dir+[item for item in os.listdir(source_dir) if \".txt\" in item][0], \"r+\")\n",
    "lines = file_read.readlines()[1:]\n",
    "fix_data = lambda line: line.strip().replace('\\n', \"\").split(\",\")\n",
    "dataset = np.array(list(map(fix_data, lines)), dtype=object)"
   ]
  },
  {
   "cell_type": "code",
   "execution_count": 66,
   "metadata": {},
   "outputs": [
    {
     "data": {
      "text/plain": [
       "0.6212383451558887"
      ]
     },
     "execution_count": 66,
     "metadata": {},
     "output_type": "execute_result"
    }
   ],
   "source": [
    "# Build and train the model\n",
    "# Note that in this case the states are refered as the labels and the observations are x values\n",
    "states = [\"foggy\", \"rainy\", \"sunny\"]\n",
    "my_model = hmm(states)\n",
    "my_model.supervised_training(dataset[:, 1], dataset[:, 0])\n",
    "my_model.backward([\"no\"])"
   ]
  },
  {
   "cell_type": "code",
   "execution_count": 67,
   "metadata": {},
   "outputs": [
    {
     "data": {
      "text/plain": [
       "0.6212383451558887"
      ]
     },
     "execution_count": 67,
     "metadata": {},
     "output_type": "execute_result"
    }
   ],
   "source": [
    "my_model.likelihood([\"no\"])"
   ]
  },
  {
   "cell_type": "code",
   "execution_count": null,
   "metadata": {},
   "outputs": [],
   "source": []
  }
 ],
 "metadata": {
  "kernelspec": {
   "display_name": "Python 3",
   "language": "python",
   "name": "python3"
  },
  "language_info": {
   "codemirror_mode": {
    "name": "ipython",
    "version": 3
   },
   "file_extension": ".py",
   "mimetype": "text/x-python",
   "name": "python",
   "nbconvert_exporter": "python",
   "pygments_lexer": "ipython3",
   "version": "3.8.4"
  }
 },
 "nbformat": 4,
 "nbformat_minor": 4
}
